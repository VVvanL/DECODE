{
 "cells": [
  {
   "cell_type": "markdown",
   "metadata": {
    "tags": []
   },
   "source": [
    "# DECODE - General Introduction\n",
    "If you plan to install and use DECODE locally we recommend going through this notebook to get familiar with the framework.\n",
    "\n",
    "We make highly use of the CUDA accelerated library PyTorch which is used internally almost everywhere."
   ]
  },
  {
   "cell_type": "code",
   "execution_count": 1,
   "metadata": {},
   "outputs": [
    {
     "name": "stdout",
     "output_type": "stream",
     "text": [
      "DECODE version: vINVALID-recent-0.10.0\n"
     ]
    }
   ],
   "source": [
    "import decode\n",
    "import decode.utils  # interfaces to outside world which are not loaded by default\n",
    "import torch\n",
    "\n",
    "print(f\"DECODE version: {decode.utils.bookkeeping.decode_state()}\")"
   ]
  },
  {
   "cell_type": "code",
   "execution_count": 2,
   "metadata": {
    "collapsed": true,
    "jupyter": {
     "outputs_hidden": true
    },
    "tags": []
   },
   "outputs": [
    {
     "name": "stdout",
     "output_type": "stream",
     "text": [
      "Help on class EmitterSet in module decode.generic.emitter:\n",
      "\n",
      "class EmitterSet(builtins.object)\n",
      " |  EmitterSet(xyz: torch.Tensor, phot: torch.Tensor, frame_ix: torch.LongTensor, id: torch.LongTensor = None, prob: torch.Tensor = None, bg: torch.Tensor = None, xyz_cr: torch.Tensor = None, phot_cr: torch.Tensor = None, bg_cr: torch.Tensor = None, xyz_sig: torch.Tensor = None, phot_sig: torch.Tensor = None, bg_sig: torch.Tensor = None, sanity_check: bool = True, xy_unit: str = None, px_size: Union[tuple, torch.Tensor] = None)\n",
      " |  \n",
      " |  Class, storing a set of emitters and its attributes. Probably the most commonly used class of this framework.\n",
      " |  \n",
      " |  Attributes:\n",
      " |          xyz: Coordinates of size N x [2,3].\n",
      " |          phot: Photon count of size N\n",
      " |          frame_ix: size N. Index on which the emitter appears.\n",
      " |          id: size N. Identity the emitter.\n",
      " |          prob: size N. Probability estimate of the emitter.\n",
      " |          bg: size N. Background estimate of emitter.\n",
      " |          xyz_cr: size N x 3. Cramer-Rao estimate of the emitters position.\n",
      " |          phot_cr: size N. Cramer-Rao estimate of the emitters photon count.\n",
      " |          bg_cr: size N. Cramer-Rao estimate of the emitters background value.\n",
      " |          sanity_check: performs a sanity check if true.\n",
      " |          xy_unit: Unit of the x and y coordinate.\n",
      " |          px_size: Pixel size for unit conversion. If not specified, derived attributes (xyz_px and xyz_nm)\n",
      " |              can not be accessed\n",
      " |  \n",
      " |  Methods defined here:\n",
      " |  \n",
      " |  __add__(self, other)\n",
      " |  \n",
      " |  __eq__(self, other) -> bool\n",
      " |      Implements equalness check. Returns true if all attributes are the same and in the same order.\n",
      " |      If it fails, you may want to sort by the ID first and then check again.\n",
      " |      \n",
      " |      Args:\n",
      " |          other: (emitterset)\n",
      " |      \n",
      " |      Returns:\n",
      " |          true if as stated above.\n",
      " |  \n",
      " |  __getattr__(self, item)\n",
      " |      Auto unit convert a couple of attributes by trailing unit specification\n",
      " |  \n",
      " |  __getitem__(self, item)\n",
      " |      Implements array indexing for this class.\n",
      " |      \n",
      " |      Args:\n",
      " |          item: (int), or indexing\n",
      " |      \n",
      " |      Returns:\n",
      " |          EmitterSet\n",
      " |  \n",
      " |  __iadd__(self, other)\n",
      " |  \n",
      " |  __init__(self, xyz: torch.Tensor, phot: torch.Tensor, frame_ix: torch.LongTensor, id: torch.LongTensor = None, prob: torch.Tensor = None, bg: torch.Tensor = None, xyz_cr: torch.Tensor = None, phot_cr: torch.Tensor = None, bg_cr: torch.Tensor = None, xyz_sig: torch.Tensor = None, phot_sig: torch.Tensor = None, bg_sig: torch.Tensor = None, sanity_check: bool = True, xy_unit: str = None, px_size: Union[tuple, torch.Tensor] = None)\n",
      " |      Initialises EmitterSet of :math:`N` emitters.\n",
      " |      \n",
      " |      Args:\n",
      " |          xyz: Coordinates of size :math:`(N,3)`\n",
      " |          phot: Photon count of size :math:`N`\n",
      " |          frame_ix: Index on which the emitter appears. Must be integer type. Size :math:`N`\n",
      " |          id: Identity the emitter. Must be tensor integer type and the same type as frame_ix. Size :math:`N`\n",
      " |          prob: Probability estimate of the emitter. Size :math:`N`\n",
      " |          bg: Background estimate of emitter. Size :math:`N`\n",
      " |          xyz_cr: Cramer-Rao estimate of the emitters position. Size :math:`(N,3)`\n",
      " |          phot_cr: Cramer-Rao estimate of the emitters photon count. Size :math:`N`\n",
      " |          bg_cr: Cramer-Rao estimate of the emitters background value. Size :math:`N`\n",
      " |          xyz_sig: Error estimate of the emitters position. Size :math:`(N,3)`\n",
      " |          phot_sig: Error estimate of the photon count. Size :math:`N`\n",
      " |          bg_sig: Error estimate of the background value. Size :math:`N`\n",
      " |          sanity_check: performs a sanity check.\n",
      " |          xy_unit: Unit of the x and y coordinate.\n",
      " |          px_size: Pixel size for unit conversion. If not specified, derived attributes (xyz_px and xyz_nm)\n",
      " |              may not be accessed because one can not convert units without pixel size.\n",
      " |  \n",
      " |  __iter__(self)\n",
      " |      Implements iterator bookkeeping.\n",
      " |      \n",
      " |      Returns:\n",
      " |          (self)\n",
      " |  \n",
      " |  __len__(self)\n",
      " |      Implements length of EmitterSet. Length of EmitterSet is number of rows of xyz container.\n",
      " |      \n",
      " |      Returns:\n",
      " |          (int) length of EmitterSet\n",
      " |  \n",
      " |  __next__(self)\n",
      " |      Implements next element in iterator method\n",
      " |      \n",
      " |      Returns:\n",
      " |          (EmitterSet) next element of iterator\n",
      " |  \n",
      " |  __setitem__(self, key, value)\n",
      " |  \n",
      " |  __str__(self)\n",
      " |      Friendly representation of EmitterSet\n",
      " |      \n",
      " |      Returns:\n",
      " |          (string) representation of this class\n",
      " |  \n",
      " |  chunks(self, chunks: int)\n",
      " |      Splits the EmitterSet into (almost) equal chunks\n",
      " |      \n",
      " |      Args:\n",
      " |          chunks (int): number of splits\n",
      " |      \n",
      " |      Returns:\n",
      " |          list: of emittersets\n",
      " |  \n",
      " |  clone(self)\n",
      " |      Returns a deep copy of this EmitterSet.\n",
      " |      \n",
      " |      Returns:\n",
      " |          EmitterSet\n",
      " |  \n",
      " |  dim(self) -> int\n",
      " |      Returns dimensionality of coordinates. If z is 0 everywhere, it returns 2, else 3.\n",
      " |      \n",
      " |      Note:\n",
      " |          Does not do PCA or other sophisticated things.\n",
      " |  \n",
      " |  eq_attr(self, other) -> bool\n",
      " |      Tests whether the meta attributes (xy_unit and px size) are the same\n",
      " |      \n",
      " |      Args:\n",
      " |          other: the EmitterSet to compare to\n",
      " |  \n",
      " |  filter_by_sigma(self, fraction: float, dim: Union[int, NoneType] = None, return_low=True)\n",
      " |      Filter by sigma values. Returns EmitterSet.\n",
      " |      \n",
      " |      Args:\n",
      " |          fraction: relative fraction of emitters remaining after filtering. Ranges from 0. to 1.\n",
      " |          dim: 2 or 3 for taking into account z. If None, it will be autodetermined.\n",
      " |          return_low:\n",
      " |              if True return the fraction of emitter with the lowest sigma values.\n",
      " |              if False return the (1-fraction) with the highest sigma values.\n",
      " |  \n",
      " |  get_subset_frame(self, frame_start, frame_end, frame_ix_shift=None)\n",
      " |      Returns emitters that are in the frame range as specified.\n",
      " |      \n",
      " |      Args:\n",
      " |          frame_start: (int) lower frame index limit\n",
      " |          frame_end: (int) upper frame index limit (including)\n",
      " |          frame_ix_shift:\n",
      " |      \n",
      " |      Returns:\n",
      " |  \n",
      " |  hist_detection(self) -> {}\n",
      " |      Compute hist for detection associated attributes.\n",
      " |  \n",
      " |  populate_crlb(self, psf, **kwargs)\n",
      " |      Populate the CRLB values by the PSF function.\n",
      " |      \n",
      " |      Args:\n",
      " |          psf (PSF): Point Spread function with CRLB implementation\n",
      " |          **kwargs: additional arguments to be parsed to the CRLB method\n",
      " |      \n",
      " |      Returns:\n",
      " |  \n",
      " |  save(self, file: Union[str, pathlib.Path])\n",
      " |      Pickle save's the dictionary of this instance. No legacy guarantees given.\n",
      " |      Should only be used for short-term storage.\n",
      " |      \n",
      " |      Args:\n",
      " |          file: path where to save\n",
      " |  \n",
      " |  sort_by_frame(self)\n",
      " |      Sort a deepcopy of this emitterset and return it.\n",
      " |      \n",
      " |      Returns:\n",
      " |          Sorted copy of this emitterset\n",
      " |  \n",
      " |  sort_by_frame_(self)\n",
      " |      Inplace sort this emitterset by its frame index.\n",
      " |  \n",
      " |  split_in_frames(self, ix_low: int = 0, ix_up: int = None) -> list\n",
      " |      Splits a set of emitters in a list of emittersets based on their respective frame index.\n",
      " |      \n",
      " |      Args:\n",
      " |          ix_low: (int, 0) lower bound\n",
      " |          ix_up: (int, None) upper bound\n",
      " |      \n",
      " |      Returns:\n",
      " |          list\n",
      " |  \n",
      " |  to_dict(self) -> dict\n",
      " |      Returns dictionary representation of this EmitterSet so that the keys and variables correspond to what an\n",
      " |      EmitterSet would be initialised.\n",
      " |      \n",
      " |      Example:\n",
      " |          >>> em_dict = em.to_dict()  # any emitterset instance\n",
      " |          >>> em_clone = EmitterSet(**em_dict)  # returns a clone of the emitterset\n",
      " |  \n",
      " |  ----------------------------------------------------------------------\n",
      " |  Static methods defined here:\n",
      " |  \n",
      " |  cat(emittersets: Iterable, remap_frame_ix: Union[NoneType, torch.Tensor] = None, step_frame_ix: int = None)\n",
      " |      Concatenate multiple emittersets into one emitterset which is returned. Optionally modify the frame indices by\n",
      " |      the arguments.\n",
      " |      \n",
      " |      Args:\n",
      " |          emittersets: iterable of emittersets to be concatenated\n",
      " |          remap_frame_ix: new index of the 0th frame of each iterable\n",
      " |          step_frame_ix: step size between 0th frame of each iterable\n",
      " |      \n",
      " |      Returns:\n",
      " |          concatenated emitters\n",
      " |  \n",
      " |  load(file: Union[str, pathlib.Path])\n",
      " |      Loads the set of emitters which was saved by the 'save' method.\n",
      " |      \n",
      " |      Args:\n",
      " |          file: path to the emitterset\n",
      " |      \n",
      " |      Returns:\n",
      " |          EmitterSet\n",
      " |  \n",
      " |  ----------------------------------------------------------------------\n",
      " |  Readonly properties defined here:\n",
      " |  \n",
      " |  bg_scr\n",
      " |  \n",
      " |  data\n",
      " |      Return intrinsic data (without metadata)\n",
      " |  \n",
      " |  meta\n",
      " |      Return metadata of EmitterSet\n",
      " |  \n",
      " |  phot_scr\n",
      " |  \n",
      " |  single_frame\n",
      " |      Check if all emitters are on the same frame.\n",
      " |      \n",
      " |      Returns:\n",
      " |          bool\n",
      " |  \n",
      " |  xyz_scr\n",
      " |      Square-Root cramer rao of xyz.\n",
      " |  \n",
      " |  xyz_scr_nm\n",
      " |  \n",
      " |  xyz_scr_px\n",
      " |      Square-Root cramer rao of xyz in px units.\n",
      " |  \n",
      " |  xyz_sig_tot_nm\n",
      " |  \n",
      " |  xyz_sig_weighted_tot_nm\n",
      " |  \n",
      " |  ----------------------------------------------------------------------\n",
      " |  Data descriptors defined here:\n",
      " |  \n",
      " |  __dict__\n",
      " |      dictionary for instance variables (if defined)\n",
      " |  \n",
      " |  __weakref__\n",
      " |      list of weak references to the object (if defined)\n",
      " |  \n",
      " |  xyz_nm\n",
      " |      Returns xyz in nanometres and performs respective transformations if needed.\n",
      " |  \n",
      " |  xyz_px\n",
      " |      Returns xyz in pixel coordinates and performs respective transformations if needed.\n",
      " |  \n",
      " |  ----------------------------------------------------------------------\n",
      " |  Data and other attributes defined here:\n",
      " |  \n",
      " |  __hash__ = None\n",
      "\n"
     ]
    }
   ],
   "source": [
    "help(decode.EmitterSet)"
   ]
  },
  {
   "cell_type": "markdown",
   "metadata": {},
   "source": [
    "## EmitterSet"
   ]
  },
  {
   "cell_type": "markdown",
   "metadata": {},
   "source": [
    "At the core of DECODE is the EmitterSet. It has a lot of important functionalities which one should know about. In an interactive Python session (such as this notebook or in the console) you can get more information of all implementations by `help([...])`, e.g.\n",
    "> `help(decode.EmitterSet)`\n"
   ]
  },
  {
   "cell_type": "code",
   "execution_count": 3,
   "metadata": {},
   "outputs": [
    {
     "name": "stdout",
     "output_type": "stream",
     "text": [
      "EmitterSet\n",
      "::num emitters: 2\n",
      "::xy unit: px\n",
      "::px size: tensor([100., 100.])\n",
      "::frame range: 0 - 100\n",
      "::spanned volume: [15. 10.  0.] - [ 30.  15. 500.]\n"
     ]
    }
   ],
   "source": [
    "# construct an EmitterSet\n",
    "em = decode.EmitterSet(\n",
    "    xyz=torch.tensor([[15., 15., 0.], [30., 10., 500.]]),\n",
    "    phot=torch.tensor([1000, 500.]),\n",
    "    frame_ix=torch.tensor([0, 100]),\n",
    "    xy_unit='px', # z is always in nm\n",
    "    px_size=(100., 100.))  # not strictly needed but recommended in order to access xyz in both \n",
    "\n",
    "print(em)  # get some info on the set of emitters"
   ]
  },
  {
   "cell_type": "markdown",
   "metadata": {},
   "source": [
    "The coordinates can (and should) explicitly accessed with a unit as em.xyz_px or em.xyz_nm"
   ]
  },
  {
   "cell_type": "code",
   "execution_count": 4,
   "metadata": {},
   "outputs": [
    {
     "data": {
      "text/plain": [
       "tensor([[1500., 1500.,    0.],\n",
       "        [3000., 1000.,  500.]])"
      ]
     },
     "execution_count": 4,
     "metadata": {},
     "output_type": "execute_result"
    }
   ],
   "source": [
    "em.xyz_nm"
   ]
  },
  {
   "cell_type": "code",
   "execution_count": 5,
   "metadata": {},
   "outputs": [
    {
     "name": "stdout",
     "output_type": "stream",
     "text": [
      "EmitterSet\n",
      "::num emitters: 2\n",
      "::xy unit: nm\n",
      "::px size: tensor([100., 100.])\n",
      "::frame range: 0 - 100\n",
      "::spanned volume: [0.45017833 0.38343418 0.12582058] - [0.54885817 0.9230971  0.28832537]\n"
     ]
    }
   ],
   "source": [
    "# you can also set coordinates in a new unit which will lead to automatic conversion\n",
    "em.xyz_nm = torch.rand(2, 3)\n",
    "\n",
    "print(em)  # you see now that the internal storage has changed from px units to nm"
   ]
  },
  {
   "cell_type": "markdown",
   "metadata": {},
   "source": [
    "### Save and Load Emitters\n",
    "There a different options to save EmitterSets.\n",
    "\n",
    "We support:\n",
    "- HDF5 files: Well suited for large file, supported by many frameworks\n",
    "- PT files: Pytorch native saving. Useful for debugging or fast i/o. Not for longterm storage.\n",
    "- CSV files: Human readable and compatible with most other frameworks Compatible with most other frameworks, however highly discouraged if frequently used.\n",
    "\n",
    "All of these formats are derived automatically by the file extension, i.e."
   ]
  },
  {
   "cell_type": "code",
   "execution_count": 6,
   "metadata": {
    "collapsed": false,
    "jupyter": {
     "outputs_hidden": false
    },
    "pycharm": {
     "name": "#%%\n"
    }
   },
   "outputs": [],
   "source": [
    "em.save('emitter.h5')  # or '.csv' or '.pt'"
   ]
  },
  {
   "cell_type": "code",
   "execution_count": 7,
   "metadata": {
    "collapsed": false,
    "jupyter": {
     "outputs_hidden": false
    },
    "pycharm": {
     "name": "#%%\n"
    }
   },
   "outputs": [],
   "source": [
    "# load EmitterSet from file\n",
    "em_clone = decode.EmitterSet.load('emitter.h5')"
   ]
  },
  {
   "cell_type": "code",
   "execution_count": 8,
   "metadata": {
    "collapsed": false,
    "jupyter": {
     "outputs_hidden": false
    },
    "pycharm": {
     "name": "#%%\n"
    }
   },
   "outputs": [
    {
     "name": "stdout",
     "output_type": "stream",
     "text": [
      "Decode meta information at the time of saving: {'version': 'vINVALID-recent-0.10.0'}\n"
     ]
    }
   ],
   "source": [
    "# to retrieve all information that is stored in the file, you can call the loaders explicitley\n",
    "em_data, em_meta, decode_meta = decode.utils.emitter_io.load_h5('emitter.h5')  # load_h5 / load_torch / load_csv\n",
    "em_reload = decode.EmitterSet(**em_data, **em_meta)\n",
    "\n",
    "print(f\"Decode meta information at the time of saving: {decode_meta}\")"
   ]
  },
  {
   "cell_type": "markdown",
   "metadata": {},
   "source": [
    "It is possible to load  csv files that deviate in their CSV header and columns. You\n",
    "need to specify a mapping with keys at least: `x, y, z, phot,\n",
    "frame_ix`\n",
    ">We provide some 'batteries included' mappings, e.g. for the superres fight club challenge format."
   ]
  },
  {
   "cell_type": "code",
   "execution_count": null,
   "metadata": {},
   "outputs": [],
   "source": [
    "# this is the challenge mapping\n",
    "decode.utils.emitter_io.challenge_mapping"
   ]
  },
  {
   "cell_type": "code",
   "execution_count": null,
   "metadata": {},
   "outputs": [],
   "source": [
    "# uncomment the following lines and update the path if you have the challenge activations at hand\n",
    "\n",
    "# em_challenge = decode.utils.emitter_io.load_csv('path_to_challenge_activations.csv',\n",
    "#                                                 mapping=decode.utils.emitter_io.challenge_mapping,\n",
    "#                                                 skiprows=0, line_em_meta=None, line_decode_meta=None)"
   ]
  },
  {
   "cell_type": "markdown",
   "metadata": {},
   "source": [
    "### Operators and Helpers on EmitterSets\n",
    "We implemented a couple of helpers for convenience"
   ]
  },
  {
   "cell_type": "code",
   "execution_count": 9,
   "metadata": {},
   "outputs": [],
   "source": [
    "# we support boolean indexing of emitters\n",
    "subset = em[[True, False]]\n",
    "\n",
    "# e.g. get emitter on specific frame\n",
    "em_sub = em[em.frame_ix == 0]\n",
    "\n",
    "# e.g. emitters with certain photon count\n",
    "em_bright = em[em.phot > 600.]"
   ]
  },
  {
   "cell_type": "code",
   "execution_count": 10,
   "metadata": {},
   "outputs": [
    {
     "data": {
      "text/plain": [
       "True"
      ]
     },
     "execution_count": 10,
     "metadata": {},
     "output_type": "execute_result"
    }
   ],
   "source": [
    "# check equality of two sets of emitters \n",
    "# warning: requires exact equality, i.e. even the order of localisations must be the same\n",
    "em == em_clone"
   ]
  },
  {
   "cell_type": "code",
   "execution_count": 11,
   "metadata": {},
   "outputs": [
    {
     "name": "stdout",
     "output_type": "stream",
     "text": [
      "EmitterSet\n",
      "::num emitters: 1\n",
      "::xy unit: nm\n",
      "::px size: tensor([100., 100.])\n",
      "::frame range: 0 - 0\n",
      "::spanned volume: [0.54885817 0.38343418 0.28832537] - [0.54885817 0.38343418 0.28832537]\n",
      "EmitterSet\n",
      "::num emitters: 1\n",
      "::xy unit: nm\n",
      "::px size: tensor([100., 100.])\n",
      "::frame range: 100 - 100\n",
      "::spanned volume: [0.45017833 0.9230971  0.12582058] - [0.45017833 0.9230971  0.12582058]\n"
     ]
    },
    {
     "data": {
      "text/plain": [
       "[None, None]"
      ]
     },
     "execution_count": 11,
     "metadata": {},
     "output_type": "execute_result"
    }
   ],
   "source": [
    "# iterate over emitters in set\n",
    "[print(e) for e in em]"
   ]
  },
  {
   "cell_type": "code",
   "execution_count": null,
   "metadata": {},
   "outputs": [],
   "source": [
    "# split emitterset in frames, indices are inclusive, ix_low=0, ix_up=2 will output a list of length 3\n",
    "em_split = em.split_in_frames(ix_low=0, ix_up=10)  # outputs lists of EmitterSets per frame"
   ]
  },
  {
   "cell_type": "code",
   "execution_count": null,
   "metadata": {
    "collapsed": false,
    "jupyter": {
     "outputs_hidden": false
    },
    "pycharm": {
     "name": "#%%\n"
    }
   },
   "outputs": [],
   "source": [
    "# split emitterset in 3 eqaul chunks\n",
    "em = decode.RandomEmitterSet(8)\n",
    "em_split = em.chunks(3)\n",
    "\n",
    "print(f\"{len(em_split)} splits of respective lengths {[len(e) for e in em_split]}.\")"
   ]
  },
  {
   "cell_type": "code",
   "execution_count": null,
   "metadata": {},
   "outputs": [],
   "source": [
    "# concatenate multiple emittersets together\n",
    "em_cat = decode.EmitterSet.cat(em_split)"
   ]
  },
  {
   "cell_type": "markdown",
   "metadata": {},
   "source": [
    "### Sampling Emitters\n",
    "We provide some conveniences to sample or construct emitters"
   ]
  },
  {
   "cell_type": "code",
   "execution_count": null,
   "metadata": {},
   "outputs": [],
   "source": [
    "em_random = decode.RandomEmitterSet(200)  # outputs 200 random emitters, see help(decode.RandomEmitterSet) for more information\n",
    "print(em_random)"
   ]
  },
  {
   "cell_type": "markdown",
   "metadata": {},
   "source": [
    "### Plotting Emitters in 2D and 3D"
   ]
  },
  {
   "cell_type": "code",
   "execution_count": 12,
   "metadata": {},
   "outputs": [
    {
     "data": {
      "image/png": "[encoded data removed]",
      "text/plain": [
       "<Figure size 432x288 with 1 Axes>"
      ]
     },
     "metadata": {
      "needs_background": "light"
     },
     "output_type": "display_data"
    },
    {
     "data": {
      "image/png": "[encoded data removed]",
      "text/plain": [
       "<Figure size 432x288 with 1 Axes>"
      ]
     },
     "metadata": {
      "needs_background": "light"
     },
     "output_type": "display_data"
    }
   ],
   "source": [
    "import matplotlib.pyplot as plt\n",
    "\n",
    "em_fuzzy = decode.RandomEmitterSet(200)\n",
    "\n",
    "decode.plot.PlotCoordinates(em_fuzzy.xyz_px).plot()\n",
    "plt.show()\n",
    "\n",
    "decode.plot.PlotCoordinates3D(em_fuzzy.xyz_px).plot()\n",
    "plt.show()"
   ]
  },
  {
   "cell_type": "code",
   "execution_count": null,
   "metadata": {},
   "outputs": [],
   "source": []
  }
 ],
 "metadata": {
  "kernelspec": {
   "display_name": "Python 3 (ipykernel)",
   "language": "python",
   "name": "python3"
  },
  "language_info": {
   "codemirror_mode": {
    "name": "ipython",
    "version": 3
   },
   "file_extension": ".py",
   "mimetype": "text/x-python",
   "name": "python",
   "nbconvert_exporter": "python",
   "pygments_lexer": "ipython3",
   "version": "3.8.10"
  }
 },
 "nbformat": 4,
 "nbformat_minor": 4
}
